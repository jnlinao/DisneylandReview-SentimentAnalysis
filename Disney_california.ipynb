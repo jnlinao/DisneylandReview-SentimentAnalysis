{
 "cells": [
  {
   "cell_type": "code",
   "execution_count": 1,
   "id": "933b6014",
   "metadata": {},
   "outputs": [],
   "source": [
    "import pandas as pd\n",
    "import numpy as np\n",
    "import matplotlib.pyplot as plt\n",
    "import seaborn as sns\n",
    "\n",
    "import warnings\n",
    "warnings.filterwarnings(\"ignore\")"
   ]
  },
  {
   "cell_type": "code",
   "execution_count": 2,
   "id": "e45e94a0",
   "metadata": {},
   "outputs": [],
   "source": [
    "cali = pd.read_csv('data/cali_df.csv')"
   ]
  },
  {
   "cell_type": "code",
   "execution_count": 3,
   "id": "e83261e9",
   "metadata": {},
   "outputs": [
    {
     "data": {
      "text/html": [
       "<div>\n",
       "<style scoped>\n",
       "    .dataframe tbody tr th:only-of-type {\n",
       "        vertical-align: middle;\n",
       "    }\n",
       "\n",
       "    .dataframe tbody tr th {\n",
       "        vertical-align: top;\n",
       "    }\n",
       "\n",
       "    .dataframe thead th {\n",
       "        text-align: right;\n",
       "    }\n",
       "</style>\n",
       "<table border=\"1\" class=\"dataframe\">\n",
       "  <thead>\n",
       "    <tr style=\"text-align: right;\">\n",
       "      <th></th>\n",
       "      <th>Unnamed: 0</th>\n",
       "      <th>Header</th>\n",
       "      <th>Review</th>\n",
       "      <th>Rating</th>\n",
       "      <th>Date</th>\n",
       "    </tr>\n",
       "  </thead>\n",
       "  <tbody>\n",
       "    <tr>\n",
       "      <th>0</th>\n",
       "      <td>0</td>\n",
       "      <td>Rude staff, overall enjoyable</td>\n",
       "      <td>generally good of course it would be but i was...</td>\n",
       "      <td>4</td>\n",
       "      <td>2022-05-08</td>\n",
       "    </tr>\n",
       "  </tbody>\n",
       "</table>\n",
       "</div>"
      ],
      "text/plain": [
       "   Unnamed: 0                         Header  \\\n",
       "0           0  Rude staff, overall enjoyable   \n",
       "\n",
       "                                              Review  Rating        Date  \n",
       "0  generally good of course it would be but i was...       4  2022-05-08  "
      ]
     },
     "execution_count": 3,
     "metadata": {},
     "output_type": "execute_result"
    }
   ],
   "source": [
    "cali.head(1)"
   ]
  },
  {
   "cell_type": "code",
   "execution_count": 4,
   "id": "82a5700c",
   "metadata": {},
   "outputs": [
    {
     "data": {
      "text/html": [
       "<div>\n",
       "<style scoped>\n",
       "    .dataframe tbody tr th:only-of-type {\n",
       "        vertical-align: middle;\n",
       "    }\n",
       "\n",
       "    .dataframe tbody tr th {\n",
       "        vertical-align: top;\n",
       "    }\n",
       "\n",
       "    .dataframe thead th {\n",
       "        text-align: right;\n",
       "    }\n",
       "</style>\n",
       "<table border=\"1\" class=\"dataframe\">\n",
       "  <thead>\n",
       "    <tr style=\"text-align: right;\">\n",
       "      <th></th>\n",
       "      <th>title</th>\n",
       "      <th>review</th>\n",
       "      <th>rating</th>\n",
       "      <th>date</th>\n",
       "      <th>name</th>\n",
       "    </tr>\n",
       "  </thead>\n",
       "  <tbody>\n",
       "    <tr>\n",
       "      <th>0</th>\n",
       "      <td>A Disney Christmas - Indulge in Disney’s Festi...</td>\n",
       "      <td>christmas is right around the corner and noth...</td>\n",
       "      <td>4</td>\n",
       "      <td>2021-12-30</td>\n",
       "      <td>hk</td>\n",
       "    </tr>\n",
       "  </tbody>\n",
       "</table>\n",
       "</div>"
      ],
      "text/plain": [
       "                                               title  \\\n",
       "0  A Disney Christmas - Indulge in Disney’s Festi...   \n",
       "\n",
       "                                              review  rating        date name  \n",
       "0   christmas is right around the corner and noth...       4  2021-12-30   hk  "
      ]
     },
     "execution_count": 4,
     "metadata": {},
     "output_type": "execute_result"
    }
   ],
   "source": [
    "hkjp = pd.read_csv('data/df_cleaned_hk_jp.csv')\n",
    "hkjp.head(1)"
   ]
  },
  {
   "cell_type": "code",
   "execution_count": 5,
   "id": "f107c876",
   "metadata": {},
   "outputs": [],
   "source": [
    "hkjp.rename({\"title\":\"Header\", \"review\":\"Review\", \"rating\":\"Rating\", \"date\":\"Date\"}, axis=1, inplace=True)"
   ]
  },
  {
   "cell_type": "code",
   "execution_count": 6,
   "id": "a8c08b8f",
   "metadata": {},
   "outputs": [],
   "source": [
    "df = pd.concat([cali,hkjp])"
   ]
  },
  {
   "cell_type": "code",
   "execution_count": 7,
   "id": "045b1747",
   "metadata": {},
   "outputs": [
    {
     "data": {
      "text/html": [
       "<div>\n",
       "<style scoped>\n",
       "    .dataframe tbody tr th:only-of-type {\n",
       "        vertical-align: middle;\n",
       "    }\n",
       "\n",
       "    .dataframe tbody tr th {\n",
       "        vertical-align: top;\n",
       "    }\n",
       "\n",
       "    .dataframe thead th {\n",
       "        text-align: right;\n",
       "    }\n",
       "</style>\n",
       "<table border=\"1\" class=\"dataframe\">\n",
       "  <thead>\n",
       "    <tr style=\"text-align: right;\">\n",
       "      <th></th>\n",
       "      <th>Unnamed: 0</th>\n",
       "      <th>Header</th>\n",
       "      <th>Review</th>\n",
       "      <th>Rating</th>\n",
       "      <th>Date</th>\n",
       "      <th>name</th>\n",
       "    </tr>\n",
       "  </thead>\n",
       "  <tbody>\n",
       "    <tr>\n",
       "      <th>0</th>\n",
       "      <td>0.0</td>\n",
       "      <td>Rude staff, overall enjoyable</td>\n",
       "      <td>generally good of course it would be but i was...</td>\n",
       "      <td>4</td>\n",
       "      <td>2022-05-08</td>\n",
       "      <td>NaN</td>\n",
       "    </tr>\n",
       "    <tr>\n",
       "      <th>1</th>\n",
       "      <td>1.0</td>\n",
       "      <td>Loved it!</td>\n",
       "      <td>i go to disneyland every couple of years or so...</td>\n",
       "      <td>5</td>\n",
       "      <td>2022-05-06</td>\n",
       "      <td>NaN</td>\n",
       "    </tr>\n",
       "    <tr>\n",
       "      <th>2</th>\n",
       "      <td>2.0</td>\n",
       "      <td>Lacking. Changing for the worse.</td>\n",
       "      <td>had a great time here i enjoyed this park bett...</td>\n",
       "      <td>3</td>\n",
       "      <td>2022-05-05</td>\n",
       "      <td>NaN</td>\n",
       "    </tr>\n",
       "    <tr>\n",
       "      <th>3</th>\n",
       "      <td>3.0</td>\n",
       "      <td>My first time and I loved it!!</td>\n",
       "      <td>i was at the park the other week and i was on ...</td>\n",
       "      <td>5</td>\n",
       "      <td>2022-05-04</td>\n",
       "      <td>NaN</td>\n",
       "    </tr>\n",
       "    <tr>\n",
       "      <th>4</th>\n",
       "      <td>4.0</td>\n",
       "      <td>terreable</td>\n",
       "      <td>we were fortunate enough to take our year old ...</td>\n",
       "      <td>1</td>\n",
       "      <td>2022-05-03</td>\n",
       "      <td>NaN</td>\n",
       "    </tr>\n",
       "  </tbody>\n",
       "</table>\n",
       "</div>"
      ],
      "text/plain": [
       "   Unnamed: 0                            Header  \\\n",
       "0         0.0     Rude staff, overall enjoyable   \n",
       "1         1.0                         Loved it!   \n",
       "2         2.0  Lacking. Changing for the worse.   \n",
       "3         3.0    My first time and I loved it!!   \n",
       "4         4.0                         terreable   \n",
       "\n",
       "                                              Review  Rating        Date name  \n",
       "0  generally good of course it would be but i was...       4  2022-05-08  NaN  \n",
       "1  i go to disneyland every couple of years or so...       5  2022-05-06  NaN  \n",
       "2  had a great time here i enjoyed this park bett...       3  2022-05-05  NaN  \n",
       "3  i was at the park the other week and i was on ...       5  2022-05-04  NaN  \n",
       "4  we were fortunate enough to take our year old ...       1  2022-05-03  NaN  "
      ]
     },
     "execution_count": 7,
     "metadata": {},
     "output_type": "execute_result"
    }
   ],
   "source": [
    "df.head()"
   ]
  },
  {
   "cell_type": "code",
   "execution_count": 8,
   "id": "2f505263",
   "metadata": {},
   "outputs": [
    {
     "data": {
      "text/plain": [
       "(20875, 6)"
      ]
     },
     "execution_count": 8,
     "metadata": {},
     "output_type": "execute_result"
    }
   ],
   "source": [
    "df.shape"
   ]
  },
  {
   "cell_type": "code",
   "execution_count": 9,
   "id": "a561f07f",
   "metadata": {},
   "outputs": [],
   "source": [
    "df.drop_duplicates(subset=['Header','Review'], keep='first', inplace=True, ignore_index=True)"
   ]
  },
  {
   "cell_type": "code",
   "execution_count": 10,
   "id": "b1701738",
   "metadata": {},
   "outputs": [
    {
     "data": {
      "text/plain": [
       "(20875, 6)"
      ]
     },
     "execution_count": 10,
     "metadata": {},
     "output_type": "execute_result"
    }
   ],
   "source": [
    "df.shape"
   ]
  },
  {
   "cell_type": "code",
   "execution_count": 11,
   "id": "552f419d",
   "metadata": {},
   "outputs": [],
   "source": [
    "df.drop(['Header'], inplace = True, axis=1)"
   ]
  },
  {
   "cell_type": "code",
   "execution_count": 12,
   "id": "dc830b85",
   "metadata": {},
   "outputs": [
    {
     "data": {
      "text/plain": [
       "(20875, 5)"
      ]
     },
     "execution_count": 12,
     "metadata": {},
     "output_type": "execute_result"
    }
   ],
   "source": [
    "df.shape"
   ]
  },
  {
   "cell_type": "code",
   "execution_count": 13,
   "id": "5df9db5a",
   "metadata": {},
   "outputs": [],
   "source": [
    "#df.to_csv('df_combined_cleaned.csv', index=False)"
   ]
  },
  {
   "cell_type": "code",
   "execution_count": 14,
   "id": "55e1fc0f",
   "metadata": {},
   "outputs": [
    {
     "ename": "ModuleNotFoundError",
     "evalue": "No module named 'spacy'",
     "output_type": "error",
     "traceback": [
      "\u001b[0;31m---------------------------------------------------------------------------\u001b[0m",
      "\u001b[0;31mModuleNotFoundError\u001b[0m                       Traceback (most recent call last)",
      "Input \u001b[0;32mIn [14]\u001b[0m, in \u001b[0;36m<cell line: 4>\u001b[0;34m()\u001b[0m\n\u001b[1;32m      1\u001b[0m \u001b[38;5;66;03m#!pip install spacy\u001b[39;00m\n\u001b[1;32m      2\u001b[0m \u001b[38;5;66;03m#!pip install -U textblob\u001b[39;00m\n\u001b[1;32m      3\u001b[0m \u001b[38;5;66;03m#!pip install vaderSentiment\u001b[39;00m\n\u001b[0;32m----> 4\u001b[0m \u001b[38;5;28;01mimport\u001b[39;00m \u001b[38;5;21;01mspacy\u001b[39;00m\n\u001b[1;32m      5\u001b[0m \u001b[38;5;28;01mimport\u001b[39;00m \u001b[38;5;21;01mtabulate\u001b[39;00m\n\u001b[1;32m      6\u001b[0m \u001b[38;5;28;01mimport\u001b[39;00m \u001b[38;5;21;01mnumpy\u001b[39;00m \u001b[38;5;28;01mas\u001b[39;00m \u001b[38;5;21;01mnp\u001b[39;00m\n",
      "\u001b[0;31mModuleNotFoundError\u001b[0m: No module named 'spacy'"
     ]
    }
   ],
   "source": [
    "#!pip install spacy\n",
    "#!pip install -U textblob\n",
    "#!pip install vaderSentiment\n",
    "import spacy\n",
    "import tabulate\n",
    "import numpy as np\n",
    "import pandas as pd\n",
    "import matplotlib.pyplot as plt\n",
    "from os import path\n",
    "import seaborn as sns\n",
    "from textblob import TextBlob\n",
    "from vaderSentiment.vaderSentiment import SentimentIntensityAnalyzer\n",
    "from sklearn.metrics import confusion_matrix, precision_score, precision_recall_curve, recall_score, f1_score, accuracy_score\n",
    "from sklearn.feature_extraction.text import TfidfVectorizer\n",
    "from sklearn.naive_bayes import MultinomialNB\n",
    "from sklearn.linear_model import LogisticRegression"
   ]
  },
  {
   "cell_type": "code",
   "execution_count": 68,
   "id": "2f05deb2",
   "metadata": {},
   "outputs": [],
   "source": [
    "vader = SentimentIntensityAnalyzer()"
   ]
  },
  {
   "cell_type": "code",
   "execution_count": 69,
   "id": "cdebc5bd",
   "metadata": {},
   "outputs": [],
   "source": [
    "def detect_tb_polarity(text):\n",
    "    return TextBlob(text).sentiment.polarity\n",
    "\n",
    "def detect_tb_subjectivity(text):\n",
    "    return TextBlob(text).sentiment.subjectivity\n",
    "\n",
    "def detect_vader_pos(text):\n",
    "    return vader.polarity_scores(text)['pos']\n",
    "    \n",
    "def detect_vader_neg(text):\n",
    "    return vader.polarity_scores(text)['neg']\n",
    "\n",
    "def detect_vader_neu(text):\n",
    "    return vader.polarity_scores(text)['neu']\n",
    "\n",
    "def detect_vader_comp(text):\n",
    "    return vader.polarity_scores(text)['compound']"
   ]
  },
  {
   "cell_type": "code",
   "execution_count": 70,
   "id": "a1e6ec89",
   "metadata": {},
   "outputs": [
    {
     "data": {
      "text/plain": [
       "{'neg': 0.122, 'neu': 0.681, 'pos': 0.198, 'compound': 0.8648}"
      ]
     },
     "execution_count": 70,
     "metadata": {},
     "output_type": "execute_result"
    }
   ],
   "source": [
    "vader.polarity_scores(df.Review[0])"
   ]
  },
  {
   "cell_type": "code",
   "execution_count": 71,
   "id": "51b51fa4",
   "metadata": {},
   "outputs": [],
   "source": [
    "df['tb_polarity'] = df.Review.apply(detect_tb_polarity)\n",
    "df['tb_subjectivity'] = df.Review.apply(detect_tb_subjectivity)\n",
    "df['vader_pos'] = df.Review.apply(detect_vader_pos)\n",
    "df['vader_neu'] = df.Review.apply(detect_vader_neu)\n",
    "df['vader_neg'] = df.Review.apply(detect_vader_neg)\n",
    "df['vader_comp'] = df.Review.apply(detect_vader_comp)"
   ]
  },
  {
   "cell_type": "code",
   "execution_count": 72,
   "id": "e1937daa",
   "metadata": {},
   "outputs": [
    {
     "data": {
      "text/html": [
       "<div>\n",
       "<style scoped>\n",
       "    .dataframe tbody tr th:only-of-type {\n",
       "        vertical-align: middle;\n",
       "    }\n",
       "\n",
       "    .dataframe tbody tr th {\n",
       "        vertical-align: top;\n",
       "    }\n",
       "\n",
       "    .dataframe thead th {\n",
       "        text-align: right;\n",
       "    }\n",
       "</style>\n",
       "<table border=\"1\" class=\"dataframe\">\n",
       "  <thead>\n",
       "    <tr style=\"text-align: right;\">\n",
       "      <th></th>\n",
       "      <th>Review</th>\n",
       "      <th>Rating</th>\n",
       "      <th>name</th>\n",
       "      <th>Date</th>\n",
       "      <th>tb_polarity</th>\n",
       "      <th>tb_subjectivity</th>\n",
       "      <th>vader_pos</th>\n",
       "      <th>vader_neu</th>\n",
       "      <th>vader_neg</th>\n",
       "      <th>vader_comp</th>\n",
       "    </tr>\n",
       "  </thead>\n",
       "  <tbody>\n",
       "    <tr>\n",
       "      <th>0</th>\n",
       "      <td>generally good of course it would be but i was...</td>\n",
       "      <td>4</td>\n",
       "      <td>cali</td>\n",
       "      <td>2022-05-08</td>\n",
       "      <td>0.162222</td>\n",
       "      <td>0.624938</td>\n",
       "      <td>0.198</td>\n",
       "      <td>0.681</td>\n",
       "      <td>0.122</td>\n",
       "      <td>0.8648</td>\n",
       "    </tr>\n",
       "    <tr>\n",
       "      <th>1</th>\n",
       "      <td>i go to disneyland every couple of years or so...</td>\n",
       "      <td>5</td>\n",
       "      <td>cali</td>\n",
       "      <td>2022-05-06</td>\n",
       "      <td>0.114780</td>\n",
       "      <td>0.372033</td>\n",
       "      <td>0.107</td>\n",
       "      <td>0.878</td>\n",
       "      <td>0.015</td>\n",
       "      <td>0.8978</td>\n",
       "    </tr>\n",
       "    <tr>\n",
       "      <th>2</th>\n",
       "      <td>had a great time here i enjoyed this park bett...</td>\n",
       "      <td>3</td>\n",
       "      <td>cali</td>\n",
       "      <td>2022-05-05</td>\n",
       "      <td>0.483333</td>\n",
       "      <td>0.483333</td>\n",
       "      <td>0.379</td>\n",
       "      <td>0.621</td>\n",
       "      <td>0.000</td>\n",
       "      <td>0.9565</td>\n",
       "    </tr>\n",
       "    <tr>\n",
       "      <th>3</th>\n",
       "      <td>i was at the park the other week and i was on ...</td>\n",
       "      <td>5</td>\n",
       "      <td>cali</td>\n",
       "      <td>2022-05-04</td>\n",
       "      <td>0.043750</td>\n",
       "      <td>0.443750</td>\n",
       "      <td>0.000</td>\n",
       "      <td>0.877</td>\n",
       "      <td>0.123</td>\n",
       "      <td>-0.7425</td>\n",
       "    </tr>\n",
       "    <tr>\n",
       "      <th>4</th>\n",
       "      <td>we were fortunate enough to take our year old ...</td>\n",
       "      <td>1</td>\n",
       "      <td>cali</td>\n",
       "      <td>2022-05-03</td>\n",
       "      <td>0.151640</td>\n",
       "      <td>0.582963</td>\n",
       "      <td>0.107</td>\n",
       "      <td>0.790</td>\n",
       "      <td>0.103</td>\n",
       "      <td>0.0479</td>\n",
       "    </tr>\n",
       "    <tr>\n",
       "      <th>5</th>\n",
       "      <td>it was my first time last sunday at disneyland...</td>\n",
       "      <td>3</td>\n",
       "      <td>cali</td>\n",
       "      <td>2022-05-02</td>\n",
       "      <td>0.041246</td>\n",
       "      <td>0.471336</td>\n",
       "      <td>0.081</td>\n",
       "      <td>0.838</td>\n",
       "      <td>0.081</td>\n",
       "      <td>-0.2592</td>\n",
       "    </tr>\n",
       "    <tr>\n",
       "      <th>6</th>\n",
       "      <td>we had a really good time there but there were...</td>\n",
       "      <td>1</td>\n",
       "      <td>cali</td>\n",
       "      <td>2022-04-28</td>\n",
       "      <td>0.087433</td>\n",
       "      <td>0.522213</td>\n",
       "      <td>0.104</td>\n",
       "      <td>0.794</td>\n",
       "      <td>0.101</td>\n",
       "      <td>0.4442</td>\n",
       "    </tr>\n",
       "    <tr>\n",
       "      <th>7</th>\n",
       "      <td>fun fun fun it is really the happiest place on...</td>\n",
       "      <td>3</td>\n",
       "      <td>cali</td>\n",
       "      <td>2022-04-28</td>\n",
       "      <td>0.350000</td>\n",
       "      <td>0.404167</td>\n",
       "      <td>0.504</td>\n",
       "      <td>0.496</td>\n",
       "      <td>0.000</td>\n",
       "      <td>0.9600</td>\n",
       "    </tr>\n",
       "    <tr>\n",
       "      <th>8</th>\n",
       "      <td>old dated all the good rides keep breaking dow...</td>\n",
       "      <td>1</td>\n",
       "      <td>cali</td>\n",
       "      <td>2022-04-24</td>\n",
       "      <td>-0.013833</td>\n",
       "      <td>0.547630</td>\n",
       "      <td>0.128</td>\n",
       "      <td>0.753</td>\n",
       "      <td>0.119</td>\n",
       "      <td>0.3592</td>\n",
       "    </tr>\n",
       "    <tr>\n",
       "      <th>9</th>\n",
       "      <td>the last time i was at disney was and i used t...</td>\n",
       "      <td>2</td>\n",
       "      <td>cali</td>\n",
       "      <td>2022-04-23</td>\n",
       "      <td>0.070826</td>\n",
       "      <td>0.409637</td>\n",
       "      <td>0.127</td>\n",
       "      <td>0.810</td>\n",
       "      <td>0.063</td>\n",
       "      <td>0.9885</td>\n",
       "    </tr>\n",
       "  </tbody>\n",
       "</table>\n",
       "</div>"
      ],
      "text/plain": [
       "                                              Review  Rating  name  \\\n",
       "0  generally good of course it would be but i was...       4  cali   \n",
       "1  i go to disneyland every couple of years or so...       5  cali   \n",
       "2  had a great time here i enjoyed this park bett...       3  cali   \n",
       "3  i was at the park the other week and i was on ...       5  cali   \n",
       "4  we were fortunate enough to take our year old ...       1  cali   \n",
       "5  it was my first time last sunday at disneyland...       3  cali   \n",
       "6  we had a really good time there but there were...       1  cali   \n",
       "7  fun fun fun it is really the happiest place on...       3  cali   \n",
       "8  old dated all the good rides keep breaking dow...       1  cali   \n",
       "9  the last time i was at disney was and i used t...       2  cali   \n",
       "\n",
       "         Date  tb_polarity  tb_subjectivity  vader_pos  vader_neu  vader_neg  \\\n",
       "0  2022-05-08     0.162222         0.624938      0.198      0.681      0.122   \n",
       "1  2022-05-06     0.114780         0.372033      0.107      0.878      0.015   \n",
       "2  2022-05-05     0.483333         0.483333      0.379      0.621      0.000   \n",
       "3  2022-05-04     0.043750         0.443750      0.000      0.877      0.123   \n",
       "4  2022-05-03     0.151640         0.582963      0.107      0.790      0.103   \n",
       "5  2022-05-02     0.041246         0.471336      0.081      0.838      0.081   \n",
       "6  2022-04-28     0.087433         0.522213      0.104      0.794      0.101   \n",
       "7  2022-04-28     0.350000         0.404167      0.504      0.496      0.000   \n",
       "8  2022-04-24    -0.013833         0.547630      0.128      0.753      0.119   \n",
       "9  2022-04-23     0.070826         0.409637      0.127      0.810      0.063   \n",
       "\n",
       "   vader_comp  \n",
       "0      0.8648  \n",
       "1      0.8978  \n",
       "2      0.9565  \n",
       "3     -0.7425  \n",
       "4      0.0479  \n",
       "5     -0.2592  \n",
       "6      0.4442  \n",
       "7      0.9600  \n",
       "8      0.3592  \n",
       "9      0.9885  "
      ]
     },
     "execution_count": 72,
     "metadata": {},
     "output_type": "execute_result"
    }
   ],
   "source": [
    "df.head(10)"
   ]
  },
  {
   "cell_type": "markdown",
   "id": "7dd04790",
   "metadata": {},
   "source": [
    "### Rating based on review score"
   ]
  },
  {
   "cell_type": "markdown",
   "id": "08231f65",
   "metadata": {},
   "source": [
    "positive sentiment: review rating > 3\\\n",
    "negative sentiment: review rating <= 3"
   ]
  },
  {
   "cell_type": "code",
   "execution_count": 73,
   "id": "5c2afca1",
   "metadata": {},
   "outputs": [
    {
     "data": {
      "text/html": [
       "<div>\n",
       "<style scoped>\n",
       "    .dataframe tbody tr th:only-of-type {\n",
       "        vertical-align: middle;\n",
       "    }\n",
       "\n",
       "    .dataframe tbody tr th {\n",
       "        vertical-align: top;\n",
       "    }\n",
       "\n",
       "    .dataframe thead th {\n",
       "        text-align: right;\n",
       "    }\n",
       "</style>\n",
       "<table border=\"1\" class=\"dataframe\">\n",
       "  <thead>\n",
       "    <tr style=\"text-align: right;\">\n",
       "      <th></th>\n",
       "      <th>Review</th>\n",
       "      <th>Rating</th>\n",
       "      <th>name</th>\n",
       "      <th>Date</th>\n",
       "      <th>tb_polarity</th>\n",
       "      <th>tb_subjectivity</th>\n",
       "      <th>vader_pos</th>\n",
       "      <th>vader_neu</th>\n",
       "      <th>vader_neg</th>\n",
       "      <th>vader_comp</th>\n",
       "      <th>Review_Rating</th>\n",
       "    </tr>\n",
       "  </thead>\n",
       "  <tbody>\n",
       "    <tr>\n",
       "      <th>0</th>\n",
       "      <td>generally good of course it would be but i was...</td>\n",
       "      <td>4</td>\n",
       "      <td>cali</td>\n",
       "      <td>2022-05-08</td>\n",
       "      <td>0.162222</td>\n",
       "      <td>0.624938</td>\n",
       "      <td>0.198</td>\n",
       "      <td>0.681</td>\n",
       "      <td>0.122</td>\n",
       "      <td>0.8648</td>\n",
       "      <td>Positive</td>\n",
       "    </tr>\n",
       "    <tr>\n",
       "      <th>1</th>\n",
       "      <td>i go to disneyland every couple of years or so...</td>\n",
       "      <td>5</td>\n",
       "      <td>cali</td>\n",
       "      <td>2022-05-06</td>\n",
       "      <td>0.114780</td>\n",
       "      <td>0.372033</td>\n",
       "      <td>0.107</td>\n",
       "      <td>0.878</td>\n",
       "      <td>0.015</td>\n",
       "      <td>0.8978</td>\n",
       "      <td>Positive</td>\n",
       "    </tr>\n",
       "    <tr>\n",
       "      <th>2</th>\n",
       "      <td>had a great time here i enjoyed this park bett...</td>\n",
       "      <td>3</td>\n",
       "      <td>cali</td>\n",
       "      <td>2022-05-05</td>\n",
       "      <td>0.483333</td>\n",
       "      <td>0.483333</td>\n",
       "      <td>0.379</td>\n",
       "      <td>0.621</td>\n",
       "      <td>0.000</td>\n",
       "      <td>0.9565</td>\n",
       "      <td>Negative</td>\n",
       "    </tr>\n",
       "    <tr>\n",
       "      <th>3</th>\n",
       "      <td>i was at the park the other week and i was on ...</td>\n",
       "      <td>5</td>\n",
       "      <td>cali</td>\n",
       "      <td>2022-05-04</td>\n",
       "      <td>0.043750</td>\n",
       "      <td>0.443750</td>\n",
       "      <td>0.000</td>\n",
       "      <td>0.877</td>\n",
       "      <td>0.123</td>\n",
       "      <td>-0.7425</td>\n",
       "      <td>Positive</td>\n",
       "    </tr>\n",
       "    <tr>\n",
       "      <th>4</th>\n",
       "      <td>we were fortunate enough to take our year old ...</td>\n",
       "      <td>1</td>\n",
       "      <td>cali</td>\n",
       "      <td>2022-05-03</td>\n",
       "      <td>0.151640</td>\n",
       "      <td>0.582963</td>\n",
       "      <td>0.107</td>\n",
       "      <td>0.790</td>\n",
       "      <td>0.103</td>\n",
       "      <td>0.0479</td>\n",
       "      <td>Negative</td>\n",
       "    </tr>\n",
       "  </tbody>\n",
       "</table>\n",
       "</div>"
      ],
      "text/plain": [
       "                                              Review  Rating  name  \\\n",
       "0  generally good of course it would be but i was...       4  cali   \n",
       "1  i go to disneyland every couple of years or so...       5  cali   \n",
       "2  had a great time here i enjoyed this park bett...       3  cali   \n",
       "3  i was at the park the other week and i was on ...       5  cali   \n",
       "4  we were fortunate enough to take our year old ...       1  cali   \n",
       "\n",
       "         Date  tb_polarity  tb_subjectivity  vader_pos  vader_neu  vader_neg  \\\n",
       "0  2022-05-08     0.162222         0.624938      0.198      0.681      0.122   \n",
       "1  2022-05-06     0.114780         0.372033      0.107      0.878      0.015   \n",
       "2  2022-05-05     0.483333         0.483333      0.379      0.621      0.000   \n",
       "3  2022-05-04     0.043750         0.443750      0.000      0.877      0.123   \n",
       "4  2022-05-03     0.151640         0.582963      0.107      0.790      0.103   \n",
       "\n",
       "   vader_comp Review_Rating  \n",
       "0      0.8648      Positive  \n",
       "1      0.8978      Positive  \n",
       "2      0.9565      Negative  \n",
       "3     -0.7425      Positive  \n",
       "4      0.0479      Negative  "
      ]
     },
     "execution_count": 73,
     "metadata": {},
     "output_type": "execute_result"
    }
   ],
   "source": [
    "df['Review_Rating'] = df['Rating'].apply(lambda x: 'Positive' if x > 3 else'Negative')\n",
    "df.head(5)"
   ]
  },
  {
   "cell_type": "code",
   "execution_count": 74,
   "id": "c4fe3e47",
   "metadata": {},
   "outputs": [
    {
     "data": {
      "text/plain": [
       "[Text(0.5, 0, 'Location')]"
      ]
     },
     "execution_count": 74,
     "metadata": {},
     "output_type": "execute_result"
    },
    {
     "data": {
      "image/png": "[encoded data removed]",
      "text/plain": [
       "<Figure size 720x432 with 1 Axes>"
      ]
     },
     "metadata": {
      "needs_background": "light"
     },
     "output_type": "display_data"
    }
   ],
   "source": [
    "plt.figure(figsize=(10,6))\n",
    "a = sns.countplot(data=df, x='name', hue='Review_Rating')\n",
    "a.set(xlabel='Location')"
   ]
  },
  {
   "cell_type": "code",
   "execution_count": 75,
   "id": "cd831d6c",
   "metadata": {},
   "outputs": [
    {
     "data": {
      "text/html": [
       "<div>\n",
       "<style scoped>\n",
       "    .dataframe tbody tr th:only-of-type {\n",
       "        vertical-align: middle;\n",
       "    }\n",
       "\n",
       "    .dataframe tbody tr th {\n",
       "        vertical-align: top;\n",
       "    }\n",
       "\n",
       "    .dataframe thead th {\n",
       "        text-align: right;\n",
       "    }\n",
       "</style>\n",
       "<table border=\"1\" class=\"dataframe\">\n",
       "  <thead>\n",
       "    <tr style=\"text-align: right;\">\n",
       "      <th></th>\n",
       "      <th>Review_Rating</th>\n",
       "      <th>%</th>\n",
       "    </tr>\n",
       "  </thead>\n",
       "  <tbody>\n",
       "    <tr>\n",
       "      <th>Positive</th>\n",
       "      <td>16662</td>\n",
       "      <td>79.82</td>\n",
       "    </tr>\n",
       "    <tr>\n",
       "      <th>Negative</th>\n",
       "      <td>4213</td>\n",
       "      <td>20.18</td>\n",
       "    </tr>\n",
       "    <tr>\n",
       "      <th>Total</th>\n",
       "      <td>20875</td>\n",
       "      <td>100.00</td>\n",
       "    </tr>\n",
       "  </tbody>\n",
       "</table>\n",
       "</div>"
      ],
      "text/plain": [
       "          Review_Rating       %\n",
       "Positive          16662   79.82\n",
       "Negative           4213   20.18\n",
       "Total             20875  100.00"
      ]
     },
     "execution_count": 75,
     "metadata": {},
     "output_type": "execute_result"
    }
   ],
   "source": [
    "ratio_all = pd.DataFrame(df.Review_Rating.value_counts())\n",
    "ratio_all\n",
    "ratio_all.loc['Total'] = ratio_all.sum(numeric_only=True, axis=0)\n",
    "ratio_all.insert(1, \"%\", round(ratio_all.iloc[:,0]/ratio_all.iloc[:,0].Total*100,2), True)\n",
    "ratio_all"
   ]
  },
  {
   "cell_type": "code",
   "execution_count": 76,
   "id": "7528daf1",
   "metadata": {},
   "outputs": [
    {
     "data": {
      "text/html": [
       "<div>\n",
       "<style scoped>\n",
       "    .dataframe tbody tr th:only-of-type {\n",
       "        vertical-align: middle;\n",
       "    }\n",
       "\n",
       "    .dataframe tbody tr th {\n",
       "        vertical-align: top;\n",
       "    }\n",
       "\n",
       "    .dataframe thead th {\n",
       "        text-align: right;\n",
       "    }\n",
       "</style>\n",
       "<table border=\"1\" class=\"dataframe\">\n",
       "  <thead>\n",
       "    <tr style=\"text-align: right;\">\n",
       "      <th></th>\n",
       "      <th>Review_Rating</th>\n",
       "      <th>%</th>\n",
       "    </tr>\n",
       "  </thead>\n",
       "  <tbody>\n",
       "    <tr>\n",
       "      <th>Positive</th>\n",
       "      <td>2661</td>\n",
       "      <td>82.38</td>\n",
       "    </tr>\n",
       "    <tr>\n",
       "      <th>Negative</th>\n",
       "      <td>569</td>\n",
       "      <td>17.62</td>\n",
       "    </tr>\n",
       "    <tr>\n",
       "      <th>Total</th>\n",
       "      <td>3230</td>\n",
       "      <td>100.00</td>\n",
       "    </tr>\n",
       "  </tbody>\n",
       "</table>\n",
       "</div>"
      ],
      "text/plain": [
       "          Review_Rating       %\n",
       "Positive           2661   82.38\n",
       "Negative            569   17.62\n",
       "Total              3230  100.00"
      ]
     },
     "execution_count": 76,
     "metadata": {},
     "output_type": "execute_result"
    }
   ],
   "source": [
    "ratio_jp = pd.DataFrame(df[df.name == \"japan\"].Review_Rating.value_counts())\n",
    "ratio_jp\n",
    "ratio_jp.loc['Total'] = ratio_jp.sum(numeric_only=True, axis=0)\n",
    "ratio_jp.insert(1, \"%\", round(ratio_jp.iloc[:,0]/ratio_jp.iloc[:,0].Total*100,2), True)\n",
    "ratio_jp"
   ]
  },
  {
   "cell_type": "code",
   "execution_count": 77,
   "id": "8113e8b9",
   "metadata": {},
   "outputs": [
    {
     "data": {
      "text/html": [
       "<div>\n",
       "<style scoped>\n",
       "    .dataframe tbody tr th:only-of-type {\n",
       "        vertical-align: middle;\n",
       "    }\n",
       "\n",
       "    .dataframe tbody tr th {\n",
       "        vertical-align: top;\n",
       "    }\n",
       "\n",
       "    .dataframe thead th {\n",
       "        text-align: right;\n",
       "    }\n",
       "</style>\n",
       "<table border=\"1\" class=\"dataframe\">\n",
       "  <thead>\n",
       "    <tr style=\"text-align: right;\">\n",
       "      <th></th>\n",
       "      <th>Review_Rating</th>\n",
       "      <th>%</th>\n",
       "    </tr>\n",
       "  </thead>\n",
       "  <tbody>\n",
       "    <tr>\n",
       "      <th>Positive</th>\n",
       "      <td>9932</td>\n",
       "      <td>80.67</td>\n",
       "    </tr>\n",
       "    <tr>\n",
       "      <th>Negative</th>\n",
       "      <td>2380</td>\n",
       "      <td>19.33</td>\n",
       "    </tr>\n",
       "    <tr>\n",
       "      <th>Total</th>\n",
       "      <td>12312</td>\n",
       "      <td>100.00</td>\n",
       "    </tr>\n",
       "  </tbody>\n",
       "</table>\n",
       "</div>"
      ],
      "text/plain": [
       "          Review_Rating       %\n",
       "Positive           9932   80.67\n",
       "Negative           2380   19.33\n",
       "Total             12312  100.00"
      ]
     },
     "execution_count": 77,
     "metadata": {},
     "output_type": "execute_result"
    }
   ],
   "source": [
    "ratio_hk = pd.DataFrame(df[df.name == \"hk\"].Review_Rating.value_counts())\n",
    "ratio_hk\n",
    "ratio_hk.loc['Total'] = ratio_hk.sum(numeric_only=True, axis=0)\n",
    "ratio_hk.insert(1, \"%\", round(ratio_hk.iloc[:,0]/ratio_hk.iloc[:,0].Total*100,2), True)\n",
    "ratio_hk"
   ]
  },
  {
   "cell_type": "code",
   "execution_count": 78,
   "id": "962df19a",
   "metadata": {},
   "outputs": [
    {
     "data": {
      "text/html": [
       "<div>\n",
       "<style scoped>\n",
       "    .dataframe tbody tr th:only-of-type {\n",
       "        vertical-align: middle;\n",
       "    }\n",
       "\n",
       "    .dataframe tbody tr th {\n",
       "        vertical-align: top;\n",
       "    }\n",
       "\n",
       "    .dataframe thead th {\n",
       "        text-align: right;\n",
       "    }\n",
       "</style>\n",
       "<table border=\"1\" class=\"dataframe\">\n",
       "  <thead>\n",
       "    <tr style=\"text-align: right;\">\n",
       "      <th></th>\n",
       "      <th>Review_Rating</th>\n",
       "      <th>%</th>\n",
       "    </tr>\n",
       "  </thead>\n",
       "  <tbody>\n",
       "    <tr>\n",
       "      <th>Positive</th>\n",
       "      <td>4069</td>\n",
       "      <td>76.3</td>\n",
       "    </tr>\n",
       "    <tr>\n",
       "      <th>Negative</th>\n",
       "      <td>1264</td>\n",
       "      <td>23.7</td>\n",
       "    </tr>\n",
       "    <tr>\n",
       "      <th>Total</th>\n",
       "      <td>5333</td>\n",
       "      <td>100.0</td>\n",
       "    </tr>\n",
       "  </tbody>\n",
       "</table>\n",
       "</div>"
      ],
      "text/plain": [
       "          Review_Rating      %\n",
       "Positive           4069   76.3\n",
       "Negative           1264   23.7\n",
       "Total              5333  100.0"
      ]
     },
     "execution_count": 78,
     "metadata": {},
     "output_type": "execute_result"
    }
   ],
   "source": [
    "ratio_cali = pd.DataFrame(df[df.name == \"cali\"].Review_Rating.value_counts())\n",
    "ratio_cali\n",
    "ratio_cali.loc['Total'] = ratio_cali.sum(numeric_only=True, axis=0)\n",
    "ratio_cali.insert(1, \"%\", round(ratio_cali.iloc[:,0]/ratio_cali.iloc[:,0].Total*100,2), True)\n",
    "ratio_cali"
   ]
  },
  {
   "cell_type": "code",
   "execution_count": 79,
   "id": "a77abcb8",
   "metadata": {},
   "outputs": [],
   "source": [
    "ratio_df = pd.concat([ratio_all[\"%\"],ratio_jp[\"%\"],ratio_hk[\"%\"],ratio_cali[\"%\"]], axis=1)"
   ]
  },
  {
   "cell_type": "code",
   "execution_count": 80,
   "id": "c02f43c8",
   "metadata": {},
   "outputs": [
    {
     "data": {
      "image/png": "[encoded data removed]",
      "text/plain": [
       "<Figure size 432x360 with 1 Axes>"
      ]
     },
     "metadata": {
      "needs_background": "light"
     },
     "output_type": "display_data"
    }
   ],
   "source": [
    "plt.rcParams[\"figure.figsize\"] = [6, 5]\n",
    "plt.rcParams[\"figure.autolayout\"] = True\n",
    "fig, ax = plt.subplots()\n",
    "ratio_df[0:2].plot(ax=ax, kind='bar', xlabel='sentiment', ylabel='percentage', color = {\"#9cd7d5\",\"#ca8fa5\",\"#8269aa\",\"#965f99\"}\n",
    ")\n",
    "plt.legend(['all', 'jp', 'hk', 'cali']);\n",
    "plt.xticks(rotation=0, ha='right')\n",
    "plt.show()"
   ]
  },
  {
   "cell_type": "markdown",
   "id": "5368cc97",
   "metadata": {},
   "source": [
    "### Vader Compound Rating"
   ]
  },
  {
   "cell_type": "markdown",
   "id": "d0824b56",
   "metadata": {},
   "source": [
    "positive sentiment: compound score >= 0.05 \\\n",
    "negative sentiment: compound score < 0.05"
   ]
  },
  {
   "cell_type": "code",
   "execution_count": 81,
   "id": "c82ac994",
   "metadata": {},
   "outputs": [
    {
     "data": {
      "text/html": [
       "<div>\n",
       "<style scoped>\n",
       "    .dataframe tbody tr th:only-of-type {\n",
       "        vertical-align: middle;\n",
       "    }\n",
       "\n",
       "    .dataframe tbody tr th {\n",
       "        vertical-align: top;\n",
       "    }\n",
       "\n",
       "    .dataframe thead th {\n",
       "        text-align: right;\n",
       "    }\n",
       "</style>\n",
       "<table border=\"1\" class=\"dataframe\">\n",
       "  <thead>\n",
       "    <tr style=\"text-align: right;\">\n",
       "      <th></th>\n",
       "      <th>Review</th>\n",
       "      <th>Rating</th>\n",
       "      <th>name</th>\n",
       "      <th>Date</th>\n",
       "      <th>tb_polarity</th>\n",
       "      <th>tb_subjectivity</th>\n",
       "      <th>vader_pos</th>\n",
       "      <th>vader_neu</th>\n",
       "      <th>vader_neg</th>\n",
       "      <th>vader_comp</th>\n",
       "      <th>Review_Rating</th>\n",
       "      <th>Vader_Rating</th>\n",
       "    </tr>\n",
       "  </thead>\n",
       "  <tbody>\n",
       "    <tr>\n",
       "      <th>0</th>\n",
       "      <td>generally good of course it would be but i was...</td>\n",
       "      <td>4</td>\n",
       "      <td>cali</td>\n",
       "      <td>2022-05-08</td>\n",
       "      <td>0.162222</td>\n",
       "      <td>0.624938</td>\n",
       "      <td>0.198</td>\n",
       "      <td>0.681</td>\n",
       "      <td>0.122</td>\n",
       "      <td>0.8648</td>\n",
       "      <td>Positive</td>\n",
       "      <td>Positive</td>\n",
       "    </tr>\n",
       "    <tr>\n",
       "      <th>1</th>\n",
       "      <td>i go to disneyland every couple of years or so...</td>\n",
       "      <td>5</td>\n",
       "      <td>cali</td>\n",
       "      <td>2022-05-06</td>\n",
       "      <td>0.114780</td>\n",
       "      <td>0.372033</td>\n",
       "      <td>0.107</td>\n",
       "      <td>0.878</td>\n",
       "      <td>0.015</td>\n",
       "      <td>0.8978</td>\n",
       "      <td>Positive</td>\n",
       "      <td>Positive</td>\n",
       "    </tr>\n",
       "    <tr>\n",
       "      <th>2</th>\n",
       "      <td>had a great time here i enjoyed this park bett...</td>\n",
       "      <td>3</td>\n",
       "      <td>cali</td>\n",
       "      <td>2022-05-05</td>\n",
       "      <td>0.483333</td>\n",
       "      <td>0.483333</td>\n",
       "      <td>0.379</td>\n",
       "      <td>0.621</td>\n",
       "      <td>0.000</td>\n",
       "      <td>0.9565</td>\n",
       "      <td>Negative</td>\n",
       "      <td>Positive</td>\n",
       "    </tr>\n",
       "    <tr>\n",
       "      <th>3</th>\n",
       "      <td>i was at the park the other week and i was on ...</td>\n",
       "      <td>5</td>\n",
       "      <td>cali</td>\n",
       "      <td>2022-05-04</td>\n",
       "      <td>0.043750</td>\n",
       "      <td>0.443750</td>\n",
       "      <td>0.000</td>\n",
       "      <td>0.877</td>\n",
       "      <td>0.123</td>\n",
       "      <td>-0.7425</td>\n",
       "      <td>Positive</td>\n",
       "      <td>Negative</td>\n",
       "    </tr>\n",
       "    <tr>\n",
       "      <th>4</th>\n",
       "      <td>we were fortunate enough to take our year old ...</td>\n",
       "      <td>1</td>\n",
       "      <td>cali</td>\n",
       "      <td>2022-05-03</td>\n",
       "      <td>0.151640</td>\n",
       "      <td>0.582963</td>\n",
       "      <td>0.107</td>\n",
       "      <td>0.790</td>\n",
       "      <td>0.103</td>\n",
       "      <td>0.0479</td>\n",
       "      <td>Negative</td>\n",
       "      <td>Negative</td>\n",
       "    </tr>\n",
       "  </tbody>\n",
       "</table>\n",
       "</div>"
      ],
      "text/plain": [
       "                                              Review  Rating  name  \\\n",
       "0  generally good of course it would be but i was...       4  cali   \n",
       "1  i go to disneyland every couple of years or so...       5  cali   \n",
       "2  had a great time here i enjoyed this park bett...       3  cali   \n",
       "3  i was at the park the other week and i was on ...       5  cali   \n",
       "4  we were fortunate enough to take our year old ...       1  cali   \n",
       "\n",
       "         Date  tb_polarity  tb_subjectivity  vader_pos  vader_neu  vader_neg  \\\n",
       "0  2022-05-08     0.162222         0.624938      0.198      0.681      0.122   \n",
       "1  2022-05-06     0.114780         0.372033      0.107      0.878      0.015   \n",
       "2  2022-05-05     0.483333         0.483333      0.379      0.621      0.000   \n",
       "3  2022-05-04     0.043750         0.443750      0.000      0.877      0.123   \n",
       "4  2022-05-03     0.151640         0.582963      0.107      0.790      0.103   \n",
       "\n",
       "   vader_comp Review_Rating Vader_Rating  \n",
       "0      0.8648      Positive     Positive  \n",
       "1      0.8978      Positive     Positive  \n",
       "2      0.9565      Negative     Positive  \n",
       "3     -0.7425      Positive     Negative  \n",
       "4      0.0479      Negative     Negative  "
      ]
     },
     "execution_count": 81,
     "metadata": {},
     "output_type": "execute_result"
    }
   ],
   "source": [
    "df['Vader_Rating'] = df['vader_comp'].apply(lambda x: 'Positive' if x >= 0.05 else 'Negative')\n",
    "\n",
    "df.head()"
   ]
  },
  {
   "cell_type": "code",
   "execution_count": 82,
   "id": "f1d4256b",
   "metadata": {},
   "outputs": [
    {
     "data": {
      "text/plain": [
       "[Text(0.5, 0, 'Location')]"
      ]
     },
     "execution_count": 82,
     "metadata": {},
     "output_type": "execute_result"
    },
    {
     "data": {
      "image/png": "[encoded data removed]",
      "text/plain": [
       "<Figure size 720x432 with 1 Axes>"
      ]
     },
     "metadata": {
      "needs_background": "light"
     },
     "output_type": "display_data"
    }
   ],
   "source": [
    "plt.figure(figsize=(10,6))\n",
    "ax = sns.countplot(data=df, x='name', hue='Vader_Rating')\n",
    "ax.set(xlabel='Location')"
   ]
  },
  {
   "cell_type": "code",
   "execution_count": 83,
   "id": "1282c11a",
   "metadata": {},
   "outputs": [
    {
     "data": {
      "text/html": [
       "<div>\n",
       "<style scoped>\n",
       "    .dataframe tbody tr th:only-of-type {\n",
       "        vertical-align: middle;\n",
       "    }\n",
       "\n",
       "    .dataframe tbody tr th {\n",
       "        vertical-align: top;\n",
       "    }\n",
       "\n",
       "    .dataframe thead th {\n",
       "        text-align: right;\n",
       "    }\n",
       "</style>\n",
       "<table border=\"1\" class=\"dataframe\">\n",
       "  <thead>\n",
       "    <tr style=\"text-align: right;\">\n",
       "      <th></th>\n",
       "      <th>Vader_Rating</th>\n",
       "      <th>%</th>\n",
       "    </tr>\n",
       "  </thead>\n",
       "  <tbody>\n",
       "    <tr>\n",
       "      <th>Positive</th>\n",
       "      <td>18783</td>\n",
       "      <td>89.98</td>\n",
       "    </tr>\n",
       "    <tr>\n",
       "      <th>Negative</th>\n",
       "      <td>2092</td>\n",
       "      <td>10.02</td>\n",
       "    </tr>\n",
       "    <tr>\n",
       "      <th>Total</th>\n",
       "      <td>20875</td>\n",
       "      <td>100.00</td>\n",
       "    </tr>\n",
       "  </tbody>\n",
       "</table>\n",
       "</div>"
      ],
      "text/plain": [
       "          Vader_Rating       %\n",
       "Positive         18783   89.98\n",
       "Negative          2092   10.02\n",
       "Total            20875  100.00"
      ]
     },
     "execution_count": 83,
     "metadata": {},
     "output_type": "execute_result"
    }
   ],
   "source": [
    "ratio_all = pd.DataFrame(df.Vader_Rating.value_counts())\n",
    "ratio_all\n",
    "ratio_all.loc['Total'] = ratio_all.sum(numeric_only=True, axis=0)\n",
    "ratio_all.insert(1, \"%\", round(ratio_all.iloc[:,0]/ratio_all.iloc[:,0].Total*100,2), True)\n",
    "ratio_all"
   ]
  },
  {
   "cell_type": "code",
   "execution_count": 84,
   "id": "309d7b01",
   "metadata": {},
   "outputs": [
    {
     "data": {
      "text/html": [
       "<div>\n",
       "<style scoped>\n",
       "    .dataframe tbody tr th:only-of-type {\n",
       "        vertical-align: middle;\n",
       "    }\n",
       "\n",
       "    .dataframe tbody tr th {\n",
       "        vertical-align: top;\n",
       "    }\n",
       "\n",
       "    .dataframe thead th {\n",
       "        text-align: right;\n",
       "    }\n",
       "</style>\n",
       "<table border=\"1\" class=\"dataframe\">\n",
       "  <thead>\n",
       "    <tr style=\"text-align: right;\">\n",
       "      <th></th>\n",
       "      <th>Vader_Rating</th>\n",
       "      <th>%</th>\n",
       "    </tr>\n",
       "  </thead>\n",
       "  <tbody>\n",
       "    <tr>\n",
       "      <th>Positive</th>\n",
       "      <td>2972</td>\n",
       "      <td>92.01</td>\n",
       "    </tr>\n",
       "    <tr>\n",
       "      <th>Negative</th>\n",
       "      <td>258</td>\n",
       "      <td>7.99</td>\n",
       "    </tr>\n",
       "    <tr>\n",
       "      <th>Total</th>\n",
       "      <td>3230</td>\n",
       "      <td>100.00</td>\n",
       "    </tr>\n",
       "  </tbody>\n",
       "</table>\n",
       "</div>"
      ],
      "text/plain": [
       "          Vader_Rating       %\n",
       "Positive          2972   92.01\n",
       "Negative           258    7.99\n",
       "Total             3230  100.00"
      ]
     },
     "execution_count": 84,
     "metadata": {},
     "output_type": "execute_result"
    }
   ],
   "source": [
    "ratio_jp = pd.DataFrame(df[df.name == \"japan\"].Vader_Rating.value_counts())\n",
    "ratio_jp\n",
    "ratio_jp.loc['Total'] = ratio_jp.sum(numeric_only=True, axis=0)\n",
    "ratio_jp.insert(1, \"%\", round(ratio_jp.iloc[:,0]/ratio_jp.iloc[:,0].Total*100,2), True)\n",
    "ratio_jp"
   ]
  },
  {
   "cell_type": "code",
   "execution_count": 85,
   "id": "2255acd6",
   "metadata": {},
   "outputs": [
    {
     "data": {
      "text/html": [
       "<div>\n",
       "<style scoped>\n",
       "    .dataframe tbody tr th:only-of-type {\n",
       "        vertical-align: middle;\n",
       "    }\n",
       "\n",
       "    .dataframe tbody tr th {\n",
       "        vertical-align: top;\n",
       "    }\n",
       "\n",
       "    .dataframe thead th {\n",
       "        text-align: right;\n",
       "    }\n",
       "</style>\n",
       "<table border=\"1\" class=\"dataframe\">\n",
       "  <thead>\n",
       "    <tr style=\"text-align: right;\">\n",
       "      <th></th>\n",
       "      <th>Vader_Rating</th>\n",
       "      <th>%</th>\n",
       "    </tr>\n",
       "  </thead>\n",
       "  <tbody>\n",
       "    <tr>\n",
       "      <th>Positive</th>\n",
       "      <td>11215</td>\n",
       "      <td>91.09</td>\n",
       "    </tr>\n",
       "    <tr>\n",
       "      <th>Negative</th>\n",
       "      <td>1097</td>\n",
       "      <td>8.91</td>\n",
       "    </tr>\n",
       "    <tr>\n",
       "      <th>Total</th>\n",
       "      <td>12312</td>\n",
       "      <td>100.00</td>\n",
       "    </tr>\n",
       "  </tbody>\n",
       "</table>\n",
       "</div>"
      ],
      "text/plain": [
       "          Vader_Rating       %\n",
       "Positive         11215   91.09\n",
       "Negative          1097    8.91\n",
       "Total            12312  100.00"
      ]
     },
     "execution_count": 85,
     "metadata": {},
     "output_type": "execute_result"
    }
   ],
   "source": [
    "ratio_hk = pd.DataFrame(df[df.name == \"hk\"].Vader_Rating.value_counts())\n",
    "ratio_hk\n",
    "ratio_hk.loc['Total'] = ratio_hk.sum(numeric_only=True, axis=0)\n",
    "ratio_hk.insert(1, \"%\", round(ratio_hk.iloc[:,0]/ratio_hk.iloc[:,0].Total*100,2), True)\n",
    "ratio_hk"
   ]
  },
  {
   "cell_type": "code",
   "execution_count": 86,
   "id": "25bb1d0b",
   "metadata": {},
   "outputs": [
    {
     "data": {
      "text/html": [
       "<div>\n",
       "<style scoped>\n",
       "    .dataframe tbody tr th:only-of-type {\n",
       "        vertical-align: middle;\n",
       "    }\n",
       "\n",
       "    .dataframe tbody tr th {\n",
       "        vertical-align: top;\n",
       "    }\n",
       "\n",
       "    .dataframe thead th {\n",
       "        text-align: right;\n",
       "    }\n",
       "</style>\n",
       "<table border=\"1\" class=\"dataframe\">\n",
       "  <thead>\n",
       "    <tr style=\"text-align: right;\">\n",
       "      <th></th>\n",
       "      <th>Vader_Rating</th>\n",
       "      <th>%</th>\n",
       "    </tr>\n",
       "  </thead>\n",
       "  <tbody>\n",
       "    <tr>\n",
       "      <th>Positive</th>\n",
       "      <td>4596</td>\n",
       "      <td>86.18</td>\n",
       "    </tr>\n",
       "    <tr>\n",
       "      <th>Negative</th>\n",
       "      <td>737</td>\n",
       "      <td>13.82</td>\n",
       "    </tr>\n",
       "    <tr>\n",
       "      <th>Total</th>\n",
       "      <td>5333</td>\n",
       "      <td>100.00</td>\n",
       "    </tr>\n",
       "  </tbody>\n",
       "</table>\n",
       "</div>"
      ],
      "text/plain": [
       "          Vader_Rating       %\n",
       "Positive          4596   86.18\n",
       "Negative           737   13.82\n",
       "Total             5333  100.00"
      ]
     },
     "execution_count": 86,
     "metadata": {},
     "output_type": "execute_result"
    }
   ],
   "source": [
    "ratio_cali = pd.DataFrame(df[df.name == \"cali\"].Vader_Rating.value_counts())\n",
    "ratio_cali\n",
    "ratio_cali.loc['Total'] = ratio_cali.sum(numeric_only=True, axis=0)\n",
    "ratio_cali.insert(1, \"%\", round(ratio_cali.iloc[:,0]/ratio_cali.iloc[:,0].Total*100,2), True)\n",
    "ratio_cali"
   ]
  },
  {
   "cell_type": "code",
   "execution_count": 87,
   "id": "c59e1ff6",
   "metadata": {},
   "outputs": [],
   "source": [
    "ratio_df = pd.concat([ratio_all[\"%\"],ratio_jp[\"%\"],ratio_hk[\"%\"],ratio_cali[\"%\"]], axis=1)"
   ]
  },
  {
   "cell_type": "code",
   "execution_count": 88,
   "id": "d487f658",
   "metadata": {},
   "outputs": [
    {
     "data": {
      "image/png": "[encoded data removed]",
      "text/plain": [
       "<Figure size 432x360 with 1 Axes>"
      ]
     },
     "metadata": {
      "needs_background": "light"
     },
     "output_type": "display_data"
    }
   ],
   "source": [
    "plt.rcParams[\"figure.figsize\"] = [6, 5]\n",
    "plt.rcParams[\"figure.autolayout\"] = True\n",
    "fig, ax = plt.subplots()\n",
    "ratio_df[0:2].plot(ax=ax, kind='bar', xlabel='sentiment', ylabel='percentage', color = {\"#9cd7d5\",\"#ca8fa5\",\"#8269aa\",\"#965f99\"}\n",
    ")\n",
    "plt.legend(['all', 'jp', 'hk', 'cali']);\n",
    "plt.xticks(rotation=0, ha='right')\n",
    "plt.show()"
   ]
  },
  {
   "cell_type": "code",
   "execution_count": 89,
   "id": "8f8c7bed",
   "metadata": {},
   "outputs": [],
   "source": [
    "# add number of characters column\n",
    "df[\"n_chars\"] = df[\"Review\"].apply(lambda x: len(x))\n",
    "\n",
    "# add number of words column\n",
    "df[\"n_words\"] = df[\"Review\"].apply(lambda x: len(x.split(\" \")))"
   ]
  },
  {
   "cell_type": "code",
   "execution_count": 90,
   "id": "a7d63d50",
   "metadata": {},
   "outputs": [
    {
     "data": {
      "text/html": [
       "<div>\n",
       "<style scoped>\n",
       "    .dataframe tbody tr th:only-of-type {\n",
       "        vertical-align: middle;\n",
       "    }\n",
       "\n",
       "    .dataframe tbody tr th {\n",
       "        vertical-align: top;\n",
       "    }\n",
       "\n",
       "    .dataframe thead th {\n",
       "        text-align: right;\n",
       "    }\n",
       "</style>\n",
       "<table border=\"1\" class=\"dataframe\">\n",
       "  <thead>\n",
       "    <tr style=\"text-align: right;\">\n",
       "      <th></th>\n",
       "      <th>Review</th>\n",
       "      <th>Rating</th>\n",
       "      <th>name</th>\n",
       "      <th>Date</th>\n",
       "      <th>tb_polarity</th>\n",
       "      <th>tb_subjectivity</th>\n",
       "      <th>vader_pos</th>\n",
       "      <th>vader_neu</th>\n",
       "      <th>vader_neg</th>\n",
       "      <th>vader_comp</th>\n",
       "      <th>Review_Rating</th>\n",
       "      <th>Vader_Rating</th>\n",
       "      <th>n_chars</th>\n",
       "      <th>n_words</th>\n",
       "    </tr>\n",
       "  </thead>\n",
       "  <tbody>\n",
       "    <tr>\n",
       "      <th>0</th>\n",
       "      <td>generally good of course it would be but i was...</td>\n",
       "      <td>4</td>\n",
       "      <td>cali</td>\n",
       "      <td>2022-05-08</td>\n",
       "      <td>0.162222</td>\n",
       "      <td>0.624938</td>\n",
       "      <td>0.198</td>\n",
       "      <td>0.681</td>\n",
       "      <td>0.122</td>\n",
       "      <td>0.8648</td>\n",
       "      <td>Positive</td>\n",
       "      <td>Positive</td>\n",
       "      <td>625</td>\n",
       "      <td>127</td>\n",
       "    </tr>\n",
       "    <tr>\n",
       "      <th>1</th>\n",
       "      <td>i go to disneyland every couple of years or so...</td>\n",
       "      <td>5</td>\n",
       "      <td>cali</td>\n",
       "      <td>2022-05-06</td>\n",
       "      <td>0.114780</td>\n",
       "      <td>0.372033</td>\n",
       "      <td>0.107</td>\n",
       "      <td>0.878</td>\n",
       "      <td>0.015</td>\n",
       "      <td>0.8978</td>\n",
       "      <td>Positive</td>\n",
       "      <td>Positive</td>\n",
       "      <td>619</td>\n",
       "      <td>121</td>\n",
       "    </tr>\n",
       "    <tr>\n",
       "      <th>2</th>\n",
       "      <td>had a great time here i enjoyed this park bett...</td>\n",
       "      <td>3</td>\n",
       "      <td>cali</td>\n",
       "      <td>2022-05-05</td>\n",
       "      <td>0.483333</td>\n",
       "      <td>0.483333</td>\n",
       "      <td>0.379</td>\n",
       "      <td>0.621</td>\n",
       "      <td>0.000</td>\n",
       "      <td>0.9565</td>\n",
       "      <td>Negative</td>\n",
       "      <td>Positive</td>\n",
       "      <td>137</td>\n",
       "      <td>35</td>\n",
       "    </tr>\n",
       "    <tr>\n",
       "      <th>3</th>\n",
       "      <td>i was at the park the other week and i was on ...</td>\n",
       "      <td>5</td>\n",
       "      <td>cali</td>\n",
       "      <td>2022-05-04</td>\n",
       "      <td>0.043750</td>\n",
       "      <td>0.443750</td>\n",
       "      <td>0.000</td>\n",
       "      <td>0.877</td>\n",
       "      <td>0.123</td>\n",
       "      <td>-0.7425</td>\n",
       "      <td>Positive</td>\n",
       "      <td>Negative</td>\n",
       "      <td>252</td>\n",
       "      <td>56</td>\n",
       "    </tr>\n",
       "    <tr>\n",
       "      <th>4</th>\n",
       "      <td>we were fortunate enough to take our year old ...</td>\n",
       "      <td>1</td>\n",
       "      <td>cali</td>\n",
       "      <td>2022-05-03</td>\n",
       "      <td>0.151640</td>\n",
       "      <td>0.582963</td>\n",
       "      <td>0.107</td>\n",
       "      <td>0.790</td>\n",
       "      <td>0.103</td>\n",
       "      <td>0.0479</td>\n",
       "      <td>Negative</td>\n",
       "      <td>Negative</td>\n",
       "      <td>1247</td>\n",
       "      <td>248</td>\n",
       "    </tr>\n",
       "  </tbody>\n",
       "</table>\n",
       "</div>"
      ],
      "text/plain": [
       "                                              Review  Rating  name  \\\n",
       "0  generally good of course it would be but i was...       4  cali   \n",
       "1  i go to disneyland every couple of years or so...       5  cali   \n",
       "2  had a great time here i enjoyed this park bett...       3  cali   \n",
       "3  i was at the park the other week and i was on ...       5  cali   \n",
       "4  we were fortunate enough to take our year old ...       1  cali   \n",
       "\n",
       "         Date  tb_polarity  tb_subjectivity  vader_pos  vader_neu  vader_neg  \\\n",
       "0  2022-05-08     0.162222         0.624938      0.198      0.681      0.122   \n",
       "1  2022-05-06     0.114780         0.372033      0.107      0.878      0.015   \n",
       "2  2022-05-05     0.483333         0.483333      0.379      0.621      0.000   \n",
       "3  2022-05-04     0.043750         0.443750      0.000      0.877      0.123   \n",
       "4  2022-05-03     0.151640         0.582963      0.107      0.790      0.103   \n",
       "\n",
       "   vader_comp Review_Rating Vader_Rating  n_chars  n_words  \n",
       "0      0.8648      Positive     Positive      625      127  \n",
       "1      0.8978      Positive     Positive      619      121  \n",
       "2      0.9565      Negative     Positive      137       35  \n",
       "3     -0.7425      Positive     Negative      252       56  \n",
       "4      0.0479      Negative     Negative     1247      248  "
      ]
     },
     "execution_count": 90,
     "metadata": {},
     "output_type": "execute_result"
    }
   ],
   "source": [
    "df.head(5)"
   ]
  },
  {
   "cell_type": "code",
   "execution_count": 91,
   "id": "55dd2dea",
   "metadata": {},
   "outputs": [],
   "source": [
    "# create doc2vec vector columns\n",
    "from gensim.test.utils import common_texts\n",
    "from gensim.models.doc2vec import Doc2Vec, TaggedDocument\n",
    "\n",
    "documents = [TaggedDocument(doc, [i]) for i, doc in enumerate(df[\"Review\"].apply(lambda x: x.split(\" \")))]\n",
    "\n",
    "# train a Doc2Vec model with our text data\n",
    "model = Doc2Vec(documents, vector_size=5, window=2, min_count=1, workers=4)\n",
    "\n",
    "# transform each document into a vector data\n",
    "doc2vec_df = df[\"Review\"].apply(lambda x: model.infer_vector(x.split(\" \"))).apply(pd.Series)\n",
    "doc2vec_df.columns = [\"doc2vec_vector_\" + str(x) for x in doc2vec_df.columns]\n",
    "reviews_df = pd.concat([df, doc2vec_df], axis=1)"
   ]
  },
  {
   "cell_type": "code",
   "execution_count": 92,
   "id": "d1348d27",
   "metadata": {},
   "outputs": [],
   "source": [
    "# add tf-idfs columns\n",
    "from sklearn.feature_extraction.text import TfidfVectorizer\n",
    "tfidf = TfidfVectorizer(min_df = 10)\n",
    "tfidf_result = tfidf.fit_transform(reviews_df[\"Review\"]).toarray()\n",
    "tfidf_df = pd.DataFrame(tfidf_result, columns = tfidf.get_feature_names())\n",
    "tfidf_df.columns = [\"word_\" + str(x) for x in tfidf_df.columns]\n",
    "tfidf_df.index = reviews_df.index\n",
    "reviews_df = pd.concat([reviews_df, tfidf_df], axis=1)"
   ]
  },
  {
   "cell_type": "code",
   "execution_count": 93,
   "id": "4c2723a5",
   "metadata": {},
   "outputs": [
    {
     "data": {
      "text/plain": [
       "(20875, 5547)"
      ]
     },
     "execution_count": 93,
     "metadata": {},
     "output_type": "execute_result"
    }
   ],
   "source": [
    "reviews_df.shape"
   ]
  },
  {
   "cell_type": "code",
   "execution_count": 94,
   "id": "c5aa78a0",
   "metadata": {},
   "outputs": [],
   "source": [
    "reviews_df['R_Rating'] = reviews_df['Review_Rating'].apply(lambda x: 1 if x == \"Positive\" else 0)"
   ]
  },
  {
   "cell_type": "code",
   "execution_count": 95,
   "id": "5365cf2e",
   "metadata": {},
   "outputs": [],
   "source": [
    "cali = reviews_df[reviews_df.name == \"cali\"]\n",
    "hk = reviews_df[reviews_df.name == \"hk\"]\n",
    "japan = reviews_df[reviews_df.name == \"japan\"]"
   ]
  },
  {
   "cell_type": "markdown",
   "id": "d84cf1bc",
   "metadata": {},
   "source": [
    "### California data_ Modeling"
   ]
  },
  {
   "cell_type": "code",
   "execution_count": 96,
   "id": "9b0706dc",
   "metadata": {},
   "outputs": [],
   "source": [
    "y = cali[\"R_Rating\"]\n",
    "X = cali.drop([\"R_Rating\",\"Vader_Rating\",\"Review_Rating\", \"Review\", \"name\", \"Date\", \"Rating\"\n",
    "              ,\"tb_polarity\",\"tb_subjectivity\",\"vader_pos\",\"vader_neu\",\"vader_neg\",\"vader_comp\"], axis=1)"
   ]
  },
  {
   "cell_type": "code",
   "execution_count": 97,
   "id": "57ad4279",
   "metadata": {},
   "outputs": [
    {
     "data": {
      "text/html": [
       "<div>\n",
       "<style scoped>\n",
       "    .dataframe tbody tr th:only-of-type {\n",
       "        vertical-align: middle;\n",
       "    }\n",
       "\n",
       "    .dataframe tbody tr th {\n",
       "        vertical-align: top;\n",
       "    }\n",
       "\n",
       "    .dataframe thead th {\n",
       "        text-align: right;\n",
       "    }\n",
       "</style>\n",
       "<table border=\"1\" class=\"dataframe\">\n",
       "  <thead>\n",
       "    <tr style=\"text-align: right;\">\n",
       "      <th></th>\n",
       "      <th>n_chars</th>\n",
       "      <th>n_words</th>\n",
       "      <th>doc2vec_vector_0</th>\n",
       "      <th>doc2vec_vector_1</th>\n",
       "      <th>doc2vec_vector_2</th>\n",
       "      <th>doc2vec_vector_3</th>\n",
       "      <th>doc2vec_vector_4</th>\n",
       "      <th>word_ability</th>\n",
       "      <th>word_abit</th>\n",
       "      <th>word_able</th>\n",
       "      <th>...</th>\n",
       "      <th>word_youtube</th>\n",
       "      <th>word_yr</th>\n",
       "      <th>word_yrs</th>\n",
       "      <th>word_yum</th>\n",
       "      <th>word_yummy</th>\n",
       "      <th>word_zealand</th>\n",
       "      <th>word_zero</th>\n",
       "      <th>word_zone</th>\n",
       "      <th>word_zones</th>\n",
       "      <th>word_zoo</th>\n",
       "    </tr>\n",
       "  </thead>\n",
       "  <tbody>\n",
       "    <tr>\n",
       "      <th>0</th>\n",
       "      <td>625</td>\n",
       "      <td>127</td>\n",
       "      <td>-0.193957</td>\n",
       "      <td>-0.547246</td>\n",
       "      <td>0.193761</td>\n",
       "      <td>0.111888</td>\n",
       "      <td>0.785541</td>\n",
       "      <td>0.0</td>\n",
       "      <td>0.0</td>\n",
       "      <td>0.0</td>\n",
       "      <td>...</td>\n",
       "      <td>0.0</td>\n",
       "      <td>0.0</td>\n",
       "      <td>0.0</td>\n",
       "      <td>0.0</td>\n",
       "      <td>0.0</td>\n",
       "      <td>0.0</td>\n",
       "      <td>0.0</td>\n",
       "      <td>0.0</td>\n",
       "      <td>0.0</td>\n",
       "      <td>0.0</td>\n",
       "    </tr>\n",
       "    <tr>\n",
       "      <th>1</th>\n",
       "      <td>619</td>\n",
       "      <td>121</td>\n",
       "      <td>-0.561285</td>\n",
       "      <td>-0.453318</td>\n",
       "      <td>0.035378</td>\n",
       "      <td>0.325572</td>\n",
       "      <td>0.475485</td>\n",
       "      <td>0.0</td>\n",
       "      <td>0.0</td>\n",
       "      <td>0.0</td>\n",
       "      <td>...</td>\n",
       "      <td>0.0</td>\n",
       "      <td>0.0</td>\n",
       "      <td>0.0</td>\n",
       "      <td>0.0</td>\n",
       "      <td>0.0</td>\n",
       "      <td>0.0</td>\n",
       "      <td>0.0</td>\n",
       "      <td>0.0</td>\n",
       "      <td>0.0</td>\n",
       "      <td>0.0</td>\n",
       "    </tr>\n",
       "    <tr>\n",
       "      <th>2</th>\n",
       "      <td>137</td>\n",
       "      <td>35</td>\n",
       "      <td>-0.351219</td>\n",
       "      <td>-0.201206</td>\n",
       "      <td>-0.001259</td>\n",
       "      <td>0.216144</td>\n",
       "      <td>0.331469</td>\n",
       "      <td>0.0</td>\n",
       "      <td>0.0</td>\n",
       "      <td>0.0</td>\n",
       "      <td>...</td>\n",
       "      <td>0.0</td>\n",
       "      <td>0.0</td>\n",
       "      <td>0.0</td>\n",
       "      <td>0.0</td>\n",
       "      <td>0.0</td>\n",
       "      <td>0.0</td>\n",
       "      <td>0.0</td>\n",
       "      <td>0.0</td>\n",
       "      <td>0.0</td>\n",
       "      <td>0.0</td>\n",
       "    </tr>\n",
       "    <tr>\n",
       "      <th>3</th>\n",
       "      <td>252</td>\n",
       "      <td>56</td>\n",
       "      <td>-0.826096</td>\n",
       "      <td>-0.140306</td>\n",
       "      <td>-0.029197</td>\n",
       "      <td>0.369925</td>\n",
       "      <td>0.142707</td>\n",
       "      <td>0.0</td>\n",
       "      <td>0.0</td>\n",
       "      <td>0.0</td>\n",
       "      <td>...</td>\n",
       "      <td>0.0</td>\n",
       "      <td>0.0</td>\n",
       "      <td>0.0</td>\n",
       "      <td>0.0</td>\n",
       "      <td>0.0</td>\n",
       "      <td>0.0</td>\n",
       "      <td>0.0</td>\n",
       "      <td>0.0</td>\n",
       "      <td>0.0</td>\n",
       "      <td>0.0</td>\n",
       "    </tr>\n",
       "    <tr>\n",
       "      <th>4</th>\n",
       "      <td>1247</td>\n",
       "      <td>248</td>\n",
       "      <td>-0.481222</td>\n",
       "      <td>-0.535025</td>\n",
       "      <td>-0.482391</td>\n",
       "      <td>0.543418</td>\n",
       "      <td>1.087964</td>\n",
       "      <td>0.0</td>\n",
       "      <td>0.0</td>\n",
       "      <td>0.0</td>\n",
       "      <td>...</td>\n",
       "      <td>0.0</td>\n",
       "      <td>0.0</td>\n",
       "      <td>0.0</td>\n",
       "      <td>0.0</td>\n",
       "      <td>0.0</td>\n",
       "      <td>0.0</td>\n",
       "      <td>0.0</td>\n",
       "      <td>0.0</td>\n",
       "      <td>0.0</td>\n",
       "      <td>0.0</td>\n",
       "    </tr>\n",
       "  </tbody>\n",
       "</table>\n",
       "<p>5 rows × 5535 columns</p>\n",
       "</div>"
      ],
      "text/plain": [
       "   n_chars  n_words  doc2vec_vector_0  doc2vec_vector_1  doc2vec_vector_2  \\\n",
       "0      625      127         -0.193957         -0.547246          0.193761   \n",
       "1      619      121         -0.561285         -0.453318          0.035378   \n",
       "2      137       35         -0.351219         -0.201206         -0.001259   \n",
       "3      252       56         -0.826096         -0.140306         -0.029197   \n",
       "4     1247      248         -0.481222         -0.535025         -0.482391   \n",
       "\n",
       "   doc2vec_vector_3  doc2vec_vector_4  word_ability  word_abit  word_able  \\\n",
       "0          0.111888          0.785541           0.0        0.0        0.0   \n",
       "1          0.325572          0.475485           0.0        0.0        0.0   \n",
       "2          0.216144          0.331469           0.0        0.0        0.0   \n",
       "3          0.369925          0.142707           0.0        0.0        0.0   \n",
       "4          0.543418          1.087964           0.0        0.0        0.0   \n",
       "\n",
       "   ...  word_youtube  word_yr  word_yrs  word_yum  word_yummy  word_zealand  \\\n",
       "0  ...           0.0      0.0       0.0       0.0         0.0           0.0   \n",
       "1  ...           0.0      0.0       0.0       0.0         0.0           0.0   \n",
       "2  ...           0.0      0.0       0.0       0.0         0.0           0.0   \n",
       "3  ...           0.0      0.0       0.0       0.0         0.0           0.0   \n",
       "4  ...           0.0      0.0       0.0       0.0         0.0           0.0   \n",
       "\n",
       "   word_zero  word_zone  word_zones  word_zoo  \n",
       "0        0.0        0.0         0.0       0.0  \n",
       "1        0.0        0.0         0.0       0.0  \n",
       "2        0.0        0.0         0.0       0.0  \n",
       "3        0.0        0.0         0.0       0.0  \n",
       "4        0.0        0.0         0.0       0.0  \n",
       "\n",
       "[5 rows x 5535 columns]"
      ]
     },
     "execution_count": 97,
     "metadata": {},
     "output_type": "execute_result"
    }
   ],
   "source": [
    "X.head(5)"
   ]
  },
  {
   "cell_type": "code",
   "execution_count": 98,
   "id": "005a21d0",
   "metadata": {},
   "outputs": [
    {
     "data": {
      "text/plain": [
       "(5333, 5535)"
      ]
     },
     "execution_count": 98,
     "metadata": {},
     "output_type": "execute_result"
    }
   ],
   "source": [
    "X.shape"
   ]
  },
  {
   "cell_type": "code",
   "execution_count": 99,
   "id": "4ee1237b",
   "metadata": {},
   "outputs": [],
   "source": [
    "# split the data into train and test\n",
    "from sklearn.model_selection import train_test_split\n",
    "\n",
    "#80% training, 20% testing\n",
    "X_train, X_test, y_train, y_test = train_test_split(X, y, test_size=0.2, random_state=42)"
   ]
  },
  {
   "cell_type": "markdown",
   "id": "c8da9a48",
   "metadata": {},
   "source": [
    "### SMOTE"
   ]
  },
  {
   "cell_type": "code",
   "execution_count": 100,
   "id": "6f6cea85",
   "metadata": {},
   "outputs": [],
   "source": [
    "from imblearn.over_sampling import SMOTE\n",
    "from imblearn.under_sampling import RandomUnderSampler\n",
    "from imblearn.pipeline import Pipeline\n",
    "from sklearn.preprocessing import StandardScaler\n",
    "from sklearn.tree import DecisionTreeClassifier\n",
    "\n",
    "#undersampling\n",
    "under = RandomUnderSampler(sampling_strategy=0.5,random_state= 42)\n",
    "X_train, y_train = under.fit_resample(X_train, y_train)\n",
    "steps = [('under', under)]\n",
    "pipeline = Pipeline(steps=steps)"
   ]
  },
  {
   "cell_type": "code",
   "execution_count": 101,
   "id": "36682f8a",
   "metadata": {},
   "outputs": [],
   "source": [
    "X_train,y_train  = pipeline.fit_resample(X_train,y_train)"
   ]
  },
  {
   "cell_type": "code",
   "execution_count": 102,
   "id": "a802ec0e",
   "metadata": {},
   "outputs": [],
   "source": [
    "sc = StandardScaler()\n",
    "X_train = sc.fit_transform(X_train)\n",
    "X_test= sc.transform(X_test)"
   ]
  },
  {
   "cell_type": "code",
   "execution_count": 103,
   "id": "cd8658e9",
   "metadata": {},
   "outputs": [
    {
     "data": {
      "text/plain": [
       "1    2020\n",
       "0    1010\n",
       "Name: R_Rating, dtype: int64"
      ]
     },
     "execution_count": 103,
     "metadata": {},
     "output_type": "execute_result"
    }
   ],
   "source": [
    "y_train.value_counts()"
   ]
  },
  {
   "cell_type": "markdown",
   "id": "08253151",
   "metadata": {},
   "source": [
    "### Modeling"
   ]
  },
  {
   "cell_type": "markdown",
   "id": "2ee102b9",
   "metadata": {},
   "source": [
    "#### Random Forest"
   ]
  },
  {
   "cell_type": "code",
   "execution_count": 107,
   "id": "e0b85ed7",
   "metadata": {},
   "outputs": [],
   "source": [
    "#random forest classifier\n",
    "from sklearn.ensemble import RandomForestClassifier\n",
    "rf = RandomForestClassifier(n_estimators = 100, random_state = 42)\n",
    "rf.fit(X_train, y_train)\n",
    "rf_pred = rf.predict(X_test)"
   ]
  },
  {
   "cell_type": "code",
   "execution_count": 108,
   "id": "ae13e647",
   "metadata": {},
   "outputs": [
    {
     "name": "stdout",
     "output_type": "stream",
     "text": [
      "Precision: 0.836\n",
      "Recall: 0.952\n",
      "Accuracy: 0.821\n",
      "F1 Score: 0.890\n"
     ]
    }
   ],
   "source": [
    "#testing\n",
    "print('Precision: %.3f' % precision_score(y_test, rf_pred))\n",
    "print('Recall: %.3f' % recall_score(y_test, rf_pred))\n",
    "print('Accuracy: %.3f' % accuracy_score(y_test, rf_pred))\n",
    "print('F1 Score: %.3f' % f1_score(y_test, rf_pred))"
   ]
  },
  {
   "cell_type": "code",
   "execution_count": 109,
   "id": "879ab410",
   "metadata": {},
   "outputs": [
    {
     "name": "stdout",
     "output_type": "stream",
     "text": [
      "              precision    recall  f1-score   support\n",
      "\n",
      "           0       0.72      0.40      0.52       254\n",
      "           1       0.84      0.95      0.89       813\n",
      "\n",
      "    accuracy                           0.82      1067\n",
      "   macro avg       0.78      0.68      0.70      1067\n",
      "weighted avg       0.81      0.82      0.80      1067\n",
      "\n"
     ]
    }
   ],
   "source": [
    "from sklearn.metrics import classification_report\n",
    "print(classification_report(y_test, rf_pred))"
   ]
  },
  {
   "cell_type": "markdown",
   "id": "eb8fbab6",
   "metadata": {},
   "source": [
    "#### XGBoost"
   ]
  },
  {
   "cell_type": "code",
   "execution_count": 110,
   "id": "8f488a79",
   "metadata": {},
   "outputs": [],
   "source": [
    "import xgboost as xgb\n",
    "from xgboost import XGBClassifier\n",
    "\n",
    "xg = XGBClassifier(objective= 'binary:logistic', n_estimators = 100, random_state = 42)\n",
    "xg.fit(X_train, y_train)\n",
    "xg_pred = xg.predict(X_test)"
   ]
  },
  {
   "cell_type": "code",
   "execution_count": 111,
   "id": "a2421db4",
   "metadata": {},
   "outputs": [
    {
     "name": "stdout",
     "output_type": "stream",
     "text": [
      "Precision: 0.878\n",
      "Recall: 0.898\n",
      "Accuracy: 0.828\n",
      "F1 Score: 0.888\n"
     ]
    }
   ],
   "source": [
    "#testing\n",
    "print('Precision: %.3f' % precision_score(y_test, xg_pred))\n",
    "print('Recall: %.3f' % recall_score(y_test, xg_pred))\n",
    "print('Accuracy: %.3f' % accuracy_score(y_test, xg_pred))\n",
    "print('F1 Score: %.3f' % f1_score(y_test, xg_pred))"
   ]
  },
  {
   "cell_type": "code",
   "execution_count": 112,
   "id": "5d3fbeab",
   "metadata": {},
   "outputs": [
    {
     "name": "stdout",
     "output_type": "stream",
     "text": [
      "              precision    recall  f1-score   support\n",
      "\n",
      "           0       0.65      0.60      0.62       254\n",
      "           1       0.88      0.90      0.89       813\n",
      "\n",
      "    accuracy                           0.83      1067\n",
      "   macro avg       0.76      0.75      0.76      1067\n",
      "weighted avg       0.82      0.83      0.83      1067\n",
      "\n"
     ]
    }
   ],
   "source": [
    "print(classification_report(y_test, xg_pred))"
   ]
  },
  {
   "cell_type": "markdown",
   "id": "ad7b927a",
   "metadata": {},
   "source": [
    "#### XGBoost hyperparameter tuning"
   ]
  },
  {
   "cell_type": "code",
   "execution_count": null,
   "id": "6552087e",
   "metadata": {},
   "outputs": [],
   "source": [
    "# import XGBClassifier\n",
    "from xgboost import XGBClassifier\n",
    "from sklearn.model_selection import GridSearchCV\n",
    "\n",
    "estimator = XGBClassifier(\n",
    "    objective= 'binary:logistic',\n",
    "    nthread=4,\n",
    "    seed=42\n",
    ")\n",
    "\n",
    "# declare parameters\n",
    "parameters = {\n",
    "    'max_depth': range (2, 10, 1),\n",
    "    'n_estimators': range(60, 220, 40),\n",
    "    'learning_rate': [0.1, 0.01, 0.05]\n",
    "}\n",
    "\n",
    "grid_search = GridSearchCV(\n",
    "    estimator=estimator,\n",
    "    param_grid=parameters,\n",
    "    scoring = 'roc_auc',\n",
    "    n_jobs = 10,\n",
    "    cv = 10,\n",
    "    verbose=True\n",
    ")"
   ]
  },
  {
   "cell_type": "code",
   "execution_count": null,
   "id": "857c04d8",
   "metadata": {},
   "outputs": [],
   "source": [
    "grid_search.fit(X_train, y_train)"
   ]
  },
  {
   "cell_type": "code",
   "execution_count": null,
   "id": "ae08c620",
   "metadata": {},
   "outputs": [],
   "source": [
    "grid_search.best_estimator_"
   ]
  },
  {
   "cell_type": "code",
   "execution_count": 113,
   "id": "2c9112e6",
   "metadata": {},
   "outputs": [],
   "source": [
    "xgt = XGBClassifier(base_score=0.5, booster='gbtree', colsample_bylevel=1,\n",
    "              colsample_bynode=1, colsample_bytree=1, gamma=0, gpu_id=-1,\n",
    "              importance_type='gain', interaction_constraints='',\n",
    "              learning_rate=0.1, max_delta_step=0, max_depth=7,\n",
    "              min_child_weight=1, monotone_constraints='()',\n",
    "              n_estimators=180, n_jobs=4, nthread=4, num_parallel_tree=1,\n",
    "              random_state=42, reg_alpha=0, reg_lambda=1, scale_pos_weight=1,\n",
    "              seed=42, subsample=1, tree_method='exact', validate_parameters=1,\n",
    "              verbosity=None)\n",
    "\n",
    "xgt.fit(X_train, y_train)\n",
    "xgt_pred = xgt.predict(X_test)"
   ]
  },
  {
   "cell_type": "code",
   "execution_count": 114,
   "id": "4c3d2ac5",
   "metadata": {},
   "outputs": [
    {
     "name": "stdout",
     "output_type": "stream",
     "text": [
      "Precision: 0.875\n",
      "Recall: 0.914\n",
      "Accuracy: 0.835\n",
      "F1 Score: 0.894\n"
     ]
    }
   ],
   "source": [
    "#testing\n",
    "print('Precision: %.3f' % precision_score(y_test, xgt_pred))\n",
    "print('Recall: %.3f' % recall_score(y_test, xgt_pred))\n",
    "print('Accuracy: %.3f' % accuracy_score(y_test, xgt_pred))\n",
    "print('F1 Score: %.3f' % f1_score(y_test, xgt_pred))"
   ]
  },
  {
   "cell_type": "markdown",
   "id": "db7a1d34",
   "metadata": {},
   "source": [
    "print(classification_report(y_test, xgt_pred))"
   ]
  },
  {
   "cell_type": "markdown",
   "id": "85a82b12",
   "metadata": {},
   "source": [
    "#feature importance plot\n",
    "from xgboost import plot_importance\n",
    "from matplotlib import pyplot\n",
    "\n",
    "plot_importance(xgt, max_num_features=10)\n",
    "pyplot.show()"
   ]
  },
  {
   "cell_type": "markdown",
   "id": "b550c2a8",
   "metadata": {},
   "source": [
    "#### Logistic Regression"
   ]
  },
  {
   "cell_type": "code",
   "execution_count": 115,
   "id": "d51cd18b",
   "metadata": {},
   "outputs": [],
   "source": [
    "#Logistic regression classifier\n",
    "from sklearn.linear_model import LogisticRegression\n",
    "lg = LogisticRegression()\n",
    "lg.fit(X_train, y_train)\n",
    "\n",
    "lg_pred = lg.predict(X_test)"
   ]
  },
  {
   "cell_type": "code",
   "execution_count": 116,
   "id": "4d36a813",
   "metadata": {},
   "outputs": [
    {
     "name": "stdout",
     "output_type": "stream",
     "text": [
      "Precision: 0.864\n",
      "Recall: 0.802\n",
      "Accuracy: 0.753\n",
      "F1 Score: 0.832\n"
     ]
    }
   ],
   "source": [
    "print('Precision: %.3f' % precision_score(y_test, lg_pred))\n",
    "print('Recall: %.3f' % recall_score(y_test, lg_pred))\n",
    "print('Accuracy: %.3f' % accuracy_score(y_test, lg_pred))\n",
    "print('F1 Score: %.3f' % f1_score(y_test, lg_pred))"
   ]
  },
  {
   "cell_type": "code",
   "execution_count": 117,
   "id": "12f98e57",
   "metadata": {},
   "outputs": [
    {
     "name": "stdout",
     "output_type": "stream",
     "text": [
      "              precision    recall  f1-score   support\n",
      "\n",
      "           0       0.48      0.59      0.53       254\n",
      "           1       0.86      0.80      0.83       813\n",
      "\n",
      "    accuracy                           0.75      1067\n",
      "   macro avg       0.67      0.70      0.68      1067\n",
      "weighted avg       0.77      0.75      0.76      1067\n",
      "\n"
     ]
    }
   ],
   "source": [
    "print(classification_report(y_test, lg_pred))"
   ]
  },
  {
   "cell_type": "code",
   "execution_count": null,
   "id": "4366b51b",
   "metadata": {},
   "outputs": [],
   "source": [
    "rft = RandomForestClassifier(\n",
    "    n_estimators=70, max_depth=40, max_features=40,\n",
    "    min_samples_leaf=3, min_samples_split=9,\n",
    "    bootstrap=False, random_state=42)"
   ]
  }
 ],
 "metadata": {
  "kernelspec": {
   "display_name": "Python 3 (ipykernel)",
   "language": "python",
   "name": "python3"
  },
  "language_info": {
   "codemirror_mode": {
    "name": "ipython",
    "version": 3
   },
   "file_extension": ".py",
   "mimetype": "text/x-python",
   "name": "python",
   "nbconvert_exporter": "python",
   "pygments_lexer": "ipython3",
   "version": "3.9.12"
  }
 },
 "nbformat": 4,
 "nbformat_minor": 5
}
